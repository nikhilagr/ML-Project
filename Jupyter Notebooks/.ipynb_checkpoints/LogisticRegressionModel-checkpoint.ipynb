{
 "cells": [
  {
   "cell_type": "markdown",
   "metadata": {},
   "source": [
    " # Logistic Regression Model for User Authentication based on Keystroke Dynamics.\n",
    " \n",
    " Below is the implementation of the logistic regression machine learning model using Scikit-learn module."
   ]
  },
  {
   "cell_type": "markdown",
   "metadata": {},
   "source": [
    "# Dataset\n",
    "\n",
    "The dataset used for implementation is Benchmark dataset for keystroke dynamics analysis from CMU.Write describtion about dataset here. "
   ]
  },
  {
   "cell_type": "code",
   "execution_count": 1,
   "metadata": {},
   "outputs": [],
   "source": [
    "import pandas as pd\n",
    "import numpy as np\n",
    "import seaborn as sns\n",
    "import matplotlib.pyplot as plt\n",
    "%matplotlib inline\n",
    "from sklearn.model_selection import train_test_split\n",
    "from sklearn.linear_model import LogisticRegression\n",
    "from sklearn import metrics\n",
    "from sklearn.metrics import classification_report,confusion_matrix"
   ]
  },
  {
   "cell_type": "markdown",
   "metadata": {},
   "source": [
    "# Load and explore data"
   ]
  },
  {
   "cell_type": "code",
   "execution_count": 2,
   "metadata": {},
   "outputs": [],
   "source": [
    "data = pd.read_csv(\"KeystrokeData.csv\")"
   ]
  },
  {
   "cell_type": "code",
   "execution_count": 3,
   "metadata": {},
   "outputs": [
    {
     "data": {
      "text/html": [
       "<div>\n",
       "<style scoped>\n",
       "    .dataframe tbody tr th:only-of-type {\n",
       "        vertical-align: middle;\n",
       "    }\n",
       "\n",
       "    .dataframe tbody tr th {\n",
       "        vertical-align: top;\n",
       "    }\n",
       "\n",
       "    .dataframe thead th {\n",
       "        text-align: right;\n",
       "    }\n",
       "</style>\n",
       "<table border=\"1\" class=\"dataframe\">\n",
       "  <thead>\n",
       "    <tr style=\"text-align: right;\">\n",
       "      <th></th>\n",
       "      <th>User</th>\n",
       "      <th>H.period</th>\n",
       "      <th>DD.period.t</th>\n",
       "      <th>UD.period.t</th>\n",
       "      <th>H.t</th>\n",
       "      <th>DD.t.i</th>\n",
       "      <th>UD.t.i</th>\n",
       "      <th>H.i</th>\n",
       "      <th>DD.i.e</th>\n",
       "      <th>UD.i.e</th>\n",
       "      <th>...</th>\n",
       "      <th>DD.a.n</th>\n",
       "      <th>UD.a.n</th>\n",
       "      <th>H.n</th>\n",
       "      <th>DD.n.l</th>\n",
       "      <th>UD.n.l</th>\n",
       "      <th>H.l</th>\n",
       "      <th>DD.l.Return</th>\n",
       "      <th>UD.l.Return</th>\n",
       "      <th>H.Return</th>\n",
       "      <th>Target</th>\n",
       "    </tr>\n",
       "  </thead>\n",
       "  <tbody>\n",
       "    <tr>\n",
       "      <th>0</th>\n",
       "      <td>Nikhil</td>\n",
       "      <td>0.119</td>\n",
       "      <td>0.272</td>\n",
       "      <td>0.153</td>\n",
       "      <td>0.103</td>\n",
       "      <td>0.208</td>\n",
       "      <td>0.105</td>\n",
       "      <td>0.103</td>\n",
       "      <td>0.288</td>\n",
       "      <td>0.185</td>\n",
       "      <td>...</td>\n",
       "      <td>0.328</td>\n",
       "      <td>0.225</td>\n",
       "      <td>0.135</td>\n",
       "      <td>0.264</td>\n",
       "      <td>0.129</td>\n",
       "      <td>0.111</td>\n",
       "      <td>0.311</td>\n",
       "      <td>0.200</td>\n",
       "      <td>0.112</td>\n",
       "      <td>Genuine</td>\n",
       "    </tr>\n",
       "    <tr>\n",
       "      <th>1</th>\n",
       "      <td>Nikhil</td>\n",
       "      <td>0.119</td>\n",
       "      <td>0.272</td>\n",
       "      <td>0.153</td>\n",
       "      <td>0.103</td>\n",
       "      <td>0.216</td>\n",
       "      <td>0.113</td>\n",
       "      <td>0.103</td>\n",
       "      <td>0.287</td>\n",
       "      <td>0.184</td>\n",
       "      <td>...</td>\n",
       "      <td>0.312</td>\n",
       "      <td>0.209</td>\n",
       "      <td>0.151</td>\n",
       "      <td>0.272</td>\n",
       "      <td>0.121</td>\n",
       "      <td>0.110</td>\n",
       "      <td>0.304</td>\n",
       "      <td>0.194</td>\n",
       "      <td>0.151</td>\n",
       "      <td>Genuine</td>\n",
       "    </tr>\n",
       "    <tr>\n",
       "      <th>2</th>\n",
       "      <td>Nikhil</td>\n",
       "      <td>0.127</td>\n",
       "      <td>0.352</td>\n",
       "      <td>0.225</td>\n",
       "      <td>0.143</td>\n",
       "      <td>0.240</td>\n",
       "      <td>0.097</td>\n",
       "      <td>0.143</td>\n",
       "      <td>0.344</td>\n",
       "      <td>0.201</td>\n",
       "      <td>...</td>\n",
       "      <td>0.297</td>\n",
       "      <td>0.154</td>\n",
       "      <td>0.150</td>\n",
       "      <td>0.263</td>\n",
       "      <td>0.113</td>\n",
       "      <td>0.127</td>\n",
       "      <td>0.304</td>\n",
       "      <td>0.177</td>\n",
       "      <td>0.127</td>\n",
       "      <td>Genuine</td>\n",
       "    </tr>\n",
       "    <tr>\n",
       "      <th>3</th>\n",
       "      <td>Nikhil</td>\n",
       "      <td>0.122</td>\n",
       "      <td>0.315</td>\n",
       "      <td>0.193</td>\n",
       "      <td>0.127</td>\n",
       "      <td>0.200</td>\n",
       "      <td>0.073</td>\n",
       "      <td>0.111</td>\n",
       "      <td>0.400</td>\n",
       "      <td>0.289</td>\n",
       "      <td>...</td>\n",
       "      <td>0.200</td>\n",
       "      <td>0.089</td>\n",
       "      <td>0.143</td>\n",
       "      <td>0.240</td>\n",
       "      <td>0.097</td>\n",
       "      <td>0.159</td>\n",
       "      <td>0.176</td>\n",
       "      <td>0.017</td>\n",
       "      <td>0.087</td>\n",
       "      <td>Genuine</td>\n",
       "    </tr>\n",
       "    <tr>\n",
       "      <th>4</th>\n",
       "      <td>Nikhil</td>\n",
       "      <td>0.143</td>\n",
       "      <td>0.232</td>\n",
       "      <td>0.089</td>\n",
       "      <td>0.119</td>\n",
       "      <td>0.208</td>\n",
       "      <td>0.089</td>\n",
       "      <td>0.127</td>\n",
       "      <td>0.264</td>\n",
       "      <td>0.137</td>\n",
       "      <td>...</td>\n",
       "      <td>0.184</td>\n",
       "      <td>0.041</td>\n",
       "      <td>0.151</td>\n",
       "      <td>0.224</td>\n",
       "      <td>0.073</td>\n",
       "      <td>0.206</td>\n",
       "      <td>0.192</td>\n",
       "      <td>-0.014</td>\n",
       "      <td>0.119</td>\n",
       "      <td>Genuine</td>\n",
       "    </tr>\n",
       "  </tbody>\n",
       "</table>\n",
       "<p>5 rows × 33 columns</p>\n",
       "</div>"
      ],
      "text/plain": [
       "     User  H.period  DD.period.t  UD.period.t    H.t  DD.t.i  UD.t.i    H.i  \\\n",
       "0  Nikhil     0.119        0.272        0.153  0.103   0.208   0.105  0.103   \n",
       "1  Nikhil     0.119        0.272        0.153  0.103   0.216   0.113  0.103   \n",
       "2  Nikhil     0.127        0.352        0.225  0.143   0.240   0.097  0.143   \n",
       "3  Nikhil     0.122        0.315        0.193  0.127   0.200   0.073  0.111   \n",
       "4  Nikhil     0.143        0.232        0.089  0.119   0.208   0.089  0.127   \n",
       "\n",
       "   DD.i.e  UD.i.e   ...     DD.a.n  UD.a.n    H.n  DD.n.l  UD.n.l    H.l  \\\n",
       "0   0.288   0.185   ...      0.328   0.225  0.135   0.264   0.129  0.111   \n",
       "1   0.287   0.184   ...      0.312   0.209  0.151   0.272   0.121  0.110   \n",
       "2   0.344   0.201   ...      0.297   0.154  0.150   0.263   0.113  0.127   \n",
       "3   0.400   0.289   ...      0.200   0.089  0.143   0.240   0.097  0.159   \n",
       "4   0.264   0.137   ...      0.184   0.041  0.151   0.224   0.073  0.206   \n",
       "\n",
       "   DD.l.Return  UD.l.Return  H.Return   Target  \n",
       "0        0.311        0.200     0.112  Genuine  \n",
       "1        0.304        0.194     0.151  Genuine  \n",
       "2        0.304        0.177     0.127  Genuine  \n",
       "3        0.176        0.017     0.087  Genuine  \n",
       "4        0.192       -0.014     0.119  Genuine  \n",
       "\n",
       "[5 rows x 33 columns]"
      ]
     },
     "execution_count": 3,
     "metadata": {},
     "output_type": "execute_result"
    }
   ],
   "source": [
    "data.head()"
   ]
  },
  {
   "cell_type": "code",
   "execution_count": 4,
   "metadata": {},
   "outputs": [
    {
     "data": {
      "text/plain": [
       "Index(['User', 'H.period', 'DD.period.t', 'UD.period.t', 'H.t', 'DD.t.i',\n",
       "       'UD.t.i', 'H.i', 'DD.i.e', 'UD.i.e', 'H.e', 'DD.e.five', 'UD.e.five',\n",
       "       'H.five', 'DD.five.Shift.r', 'UD.five.Shift.r', 'H.Shift.r',\n",
       "       'DD.Shift.r.o', 'UD.Shift.r.o', 'H.o', 'DD.o.a', 'UD.o.a', 'H.a',\n",
       "       'DD.a.n', 'UD.a.n', 'H.n', 'DD.n.l', 'UD.n.l', 'H.l', 'DD.l.Return',\n",
       "       'UD.l.Return', 'H.Return', 'Target'],\n",
       "      dtype='object')"
      ]
     },
     "execution_count": 4,
     "metadata": {},
     "output_type": "execute_result"
    }
   ],
   "source": [
    "data.columns"
   ]
  },
  {
   "cell_type": "code",
   "execution_count": null,
   "metadata": {},
   "outputs": [],
   "source": []
  },
  {
   "cell_type": "markdown",
   "metadata": {},
   "source": [
    "# Data Visualization"
   ]
  },
  {
   "cell_type": "code",
   "execution_count": 5,
   "metadata": {},
   "outputs": [
    {
     "data": {
      "text/plain": [
       "<matplotlib.axes._subplots.AxesSubplot at 0x1a0df01ac8>"
      ]
     },
     "execution_count": 5,
     "metadata": {},
     "output_type": "execute_result"
    },
    {
     "data": {
      "image/png": "[encoded data removed]",
      "text/plain": [
       "<matplotlib.figure.Figure at 0x1a0dedbf98>"
      ]
     },
     "metadata": {},
     "output_type": "display_data"
    }
   ],
   "source": [
    "sns.set_style('darkgrid')\n",
    "sns.countplot(x='Target',data=data)"
   ]
  },
  {
   "cell_type": "markdown",
   "metadata": {},
   "source": [
    "# Split data into train and test data"
   ]
  },
  {
   "cell_type": "code",
   "execution_count": 6,
   "metadata": {},
   "outputs": [],
   "source": [
    "train, test = train_test_split(data, test_size = 0.2)\n",
    "features = list(data.columns[1:32])\n",
    "X = data[features]\n",
    "y =data['Target']\n",
    "X_train = train[features]\n",
    "y_train = train['Target']\n",
    "X_test = test[features]\n",
    "y_test = test['Target']"
   ]
  },
  {
   "cell_type": "code",
   "execution_count": null,
   "metadata": {},
   "outputs": [],
   "source": []
  },
  {
   "cell_type": "markdown",
   "metadata": {},
   "source": [
    "# Create logistic regression model and train it with training data"
   ]
  },
  {
   "cell_type": "code",
   "execution_count": 7,
   "metadata": {},
   "outputs": [
    {
     "ename": "NameError",
     "evalue": "name 'X_train' is not defined",
     "output_type": "error",
     "traceback": [
      "\u001b[0;31m---------------------------------------------------------------------------\u001b[0m",
      "\u001b[0;31mNameError\u001b[0m                                 Traceback (most recent call last)",
      "\u001b[0;32m<ipython-input-7-63530b1fb37f>\u001b[0m in \u001b[0;36m<module>\u001b[0;34m()\u001b[0m\n\u001b[1;32m      1\u001b[0m \u001b[0mlogmodel\u001b[0m \u001b[0;34m=\u001b[0m \u001b[0mLogisticRegression\u001b[0m\u001b[0;34m(\u001b[0m\u001b[0;34m)\u001b[0m\u001b[0;34m\u001b[0m\u001b[0m\n\u001b[0;32m----> 2\u001b[0;31m \u001b[0mlogmodel\u001b[0m\u001b[0;34m.\u001b[0m\u001b[0mfit\u001b[0m\u001b[0;34m(\u001b[0m\u001b[0mX_train\u001b[0m\u001b[0;34m,\u001b[0m\u001b[0my_train\u001b[0m\u001b[0;34m)\u001b[0m\u001b[0;34m\u001b[0m\u001b[0m\n\u001b[0m",
      "\u001b[0;31mNameError\u001b[0m: name 'X_train' is not defined"
     ]
    }
   ],
   "source": [
    "logmodel = LogisticRegression()\n",
    "logmodel.fit(X_train,y_train)"
   ]
  },
  {
   "cell_type": "markdown",
   "metadata": {},
   "source": [
    "# Predict results "
   ]
  },
  {
   "cell_type": "code",
   "execution_count": 8,
   "metadata": {},
   "outputs": [
    {
     "ename": "NameError",
     "evalue": "name 'X_test' is not defined",
     "output_type": "error",
     "traceback": [
      "\u001b[0;31m---------------------------------------------------------------------------\u001b[0m",
      "\u001b[0;31mNameError\u001b[0m                                 Traceback (most recent call last)",
      "\u001b[0;32m<ipython-input-8-974e47a16fab>\u001b[0m in \u001b[0;36m<module>\u001b[0;34m()\u001b[0m\n\u001b[0;32m----> 1\u001b[0;31m \u001b[0mpred\u001b[0m \u001b[0;34m=\u001b[0m \u001b[0mlogmodel\u001b[0m\u001b[0;34m.\u001b[0m\u001b[0mpredict\u001b[0m\u001b[0;34m(\u001b[0m\u001b[0mX_test\u001b[0m\u001b[0;34m)\u001b[0m\u001b[0;34m\u001b[0m\u001b[0m\n\u001b[0m",
      "\u001b[0;31mNameError\u001b[0m: name 'X_test' is not defined"
     ]
    }
   ],
   "source": [
    "pred = logmodel.predict(X_test)"
   ]
  },
  {
   "cell_type": "code",
   "execution_count": 57,
   "metadata": {},
   "outputs": [],
   "source": [
    "df = pd.DataFrame(y_test)\n",
    "se = pd.Series(pred)\n",
    "df['Predictions'] = se.values\n",
    "tempdf = pd.DataFrame(logmodel.predict_proba(X_test))\n",
    "se1 = pd.Series(tempdf[0])\n",
    "ew = se1.round(decimals=3)\n",
    "df['Genuine probability'] = ew.values\n",
    "se2 = pd.Series(tempdf[1])\n",
    "ew1 = se2.round(decimals=3)\n",
    "df['Imposter probability'] = ew1.values"
   ]
  },
  {
   "cell_type": "code",
   "execution_count": 58,
   "metadata": {},
   "outputs": [
    {
     "data": {
      "text/html": [
       "<div>\n",
       "<style scoped>\n",
       "    .dataframe tbody tr th:only-of-type {\n",
       "        vertical-align: middle;\n",
       "    }\n",
       "\n",
       "    .dataframe tbody tr th {\n",
       "        vertical-align: top;\n",
       "    }\n",
       "\n",
       "    .dataframe thead th {\n",
       "        text-align: right;\n",
       "    }\n",
       "</style>\n",
       "<table border=\"1\" class=\"dataframe\">\n",
       "  <thead>\n",
       "    <tr style=\"text-align: right;\">\n",
       "      <th></th>\n",
       "      <th>Target</th>\n",
       "      <th>Predictions</th>\n",
       "      <th>Genuine probability</th>\n",
       "      <th>Imposter probability</th>\n",
       "    </tr>\n",
       "  </thead>\n",
       "  <tbody>\n",
       "    <tr>\n",
       "      <th>344</th>\n",
       "      <td>Imposter</td>\n",
       "      <td>Imposter</td>\n",
       "      <td>0.061</td>\n",
       "      <td>0.939</td>\n",
       "    </tr>\n",
       "    <tr>\n",
       "      <th>53</th>\n",
       "      <td>Genuine</td>\n",
       "      <td>Genuine</td>\n",
       "      <td>0.798</td>\n",
       "      <td>0.202</td>\n",
       "    </tr>\n",
       "    <tr>\n",
       "      <th>227</th>\n",
       "      <td>Genuine</td>\n",
       "      <td>Genuine</td>\n",
       "      <td>0.843</td>\n",
       "      <td>0.157</td>\n",
       "    </tr>\n",
       "    <tr>\n",
       "      <th>428</th>\n",
       "      <td>Imposter</td>\n",
       "      <td>Imposter</td>\n",
       "      <td>0.230</td>\n",
       "      <td>0.770</td>\n",
       "    </tr>\n",
       "    <tr>\n",
       "      <th>197</th>\n",
       "      <td>Genuine</td>\n",
       "      <td>Genuine</td>\n",
       "      <td>0.749</td>\n",
       "      <td>0.251</td>\n",
       "    </tr>\n",
       "    <tr>\n",
       "      <th>192</th>\n",
       "      <td>Genuine</td>\n",
       "      <td>Genuine</td>\n",
       "      <td>0.867</td>\n",
       "      <td>0.133</td>\n",
       "    </tr>\n",
       "    <tr>\n",
       "      <th>431</th>\n",
       "      <td>Imposter</td>\n",
       "      <td>Imposter</td>\n",
       "      <td>0.218</td>\n",
       "      <td>0.782</td>\n",
       "    </tr>\n",
       "    <tr>\n",
       "      <th>300</th>\n",
       "      <td>Imposter</td>\n",
       "      <td>Imposter</td>\n",
       "      <td>0.025</td>\n",
       "      <td>0.975</td>\n",
       "    </tr>\n",
       "    <tr>\n",
       "      <th>193</th>\n",
       "      <td>Genuine</td>\n",
       "      <td>Genuine</td>\n",
       "      <td>0.765</td>\n",
       "      <td>0.235</td>\n",
       "    </tr>\n",
       "    <tr>\n",
       "      <th>107</th>\n",
       "      <td>Genuine</td>\n",
       "      <td>Genuine</td>\n",
       "      <td>0.974</td>\n",
       "      <td>0.026</td>\n",
       "    </tr>\n",
       "    <tr>\n",
       "      <th>253</th>\n",
       "      <td>Imposter</td>\n",
       "      <td>Imposter</td>\n",
       "      <td>0.162</td>\n",
       "      <td>0.838</td>\n",
       "    </tr>\n",
       "    <tr>\n",
       "      <th>391</th>\n",
       "      <td>Imposter</td>\n",
       "      <td>Imposter</td>\n",
       "      <td>0.114</td>\n",
       "      <td>0.886</td>\n",
       "    </tr>\n",
       "    <tr>\n",
       "      <th>388</th>\n",
       "      <td>Imposter</td>\n",
       "      <td>Imposter</td>\n",
       "      <td>0.007</td>\n",
       "      <td>0.993</td>\n",
       "    </tr>\n",
       "    <tr>\n",
       "      <th>99</th>\n",
       "      <td>Genuine</td>\n",
       "      <td>Genuine</td>\n",
       "      <td>0.950</td>\n",
       "      <td>0.050</td>\n",
       "    </tr>\n",
       "    <tr>\n",
       "      <th>323</th>\n",
       "      <td>Imposter</td>\n",
       "      <td>Imposter</td>\n",
       "      <td>0.046</td>\n",
       "      <td>0.954</td>\n",
       "    </tr>\n",
       "    <tr>\n",
       "      <th>155</th>\n",
       "      <td>Genuine</td>\n",
       "      <td>Genuine</td>\n",
       "      <td>0.799</td>\n",
       "      <td>0.201</td>\n",
       "    </tr>\n",
       "    <tr>\n",
       "      <th>208</th>\n",
       "      <td>Genuine</td>\n",
       "      <td>Genuine</td>\n",
       "      <td>0.906</td>\n",
       "      <td>0.094</td>\n",
       "    </tr>\n",
       "    <tr>\n",
       "      <th>409</th>\n",
       "      <td>Imposter</td>\n",
       "      <td>Imposter</td>\n",
       "      <td>0.010</td>\n",
       "      <td>0.990</td>\n",
       "    </tr>\n",
       "    <tr>\n",
       "      <th>283</th>\n",
       "      <td>Imposter</td>\n",
       "      <td>Genuine</td>\n",
       "      <td>0.678</td>\n",
       "      <td>0.322</td>\n",
       "    </tr>\n",
       "    <tr>\n",
       "      <th>351</th>\n",
       "      <td>Imposter</td>\n",
       "      <td>Imposter</td>\n",
       "      <td>0.081</td>\n",
       "      <td>0.919</td>\n",
       "    </tr>\n",
       "    <tr>\n",
       "      <th>445</th>\n",
       "      <td>Imposter</td>\n",
       "      <td>Imposter</td>\n",
       "      <td>0.377</td>\n",
       "      <td>0.623</td>\n",
       "    </tr>\n",
       "    <tr>\n",
       "      <th>48</th>\n",
       "      <td>Genuine</td>\n",
       "      <td>Genuine</td>\n",
       "      <td>0.738</td>\n",
       "      <td>0.262</td>\n",
       "    </tr>\n",
       "    <tr>\n",
       "      <th>430</th>\n",
       "      <td>Imposter</td>\n",
       "      <td>Imposter</td>\n",
       "      <td>0.350</td>\n",
       "      <td>0.650</td>\n",
       "    </tr>\n",
       "    <tr>\n",
       "      <th>73</th>\n",
       "      <td>Genuine</td>\n",
       "      <td>Genuine</td>\n",
       "      <td>0.821</td>\n",
       "      <td>0.179</td>\n",
       "    </tr>\n",
       "    <tr>\n",
       "      <th>185</th>\n",
       "      <td>Genuine</td>\n",
       "      <td>Genuine</td>\n",
       "      <td>0.847</td>\n",
       "      <td>0.153</td>\n",
       "    </tr>\n",
       "    <tr>\n",
       "      <th>286</th>\n",
       "      <td>Imposter</td>\n",
       "      <td>Genuine</td>\n",
       "      <td>0.616</td>\n",
       "      <td>0.384</td>\n",
       "    </tr>\n",
       "    <tr>\n",
       "      <th>24</th>\n",
       "      <td>Genuine</td>\n",
       "      <td>Genuine</td>\n",
       "      <td>0.783</td>\n",
       "      <td>0.217</td>\n",
       "    </tr>\n",
       "    <tr>\n",
       "      <th>369</th>\n",
       "      <td>Imposter</td>\n",
       "      <td>Imposter</td>\n",
       "      <td>0.125</td>\n",
       "      <td>0.875</td>\n",
       "    </tr>\n",
       "    <tr>\n",
       "      <th>150</th>\n",
       "      <td>Genuine</td>\n",
       "      <td>Genuine</td>\n",
       "      <td>0.826</td>\n",
       "      <td>0.174</td>\n",
       "    </tr>\n",
       "    <tr>\n",
       "      <th>385</th>\n",
       "      <td>Imposter</td>\n",
       "      <td>Imposter</td>\n",
       "      <td>0.009</td>\n",
       "      <td>0.991</td>\n",
       "    </tr>\n",
       "    <tr>\n",
       "      <th>...</th>\n",
       "      <td>...</td>\n",
       "      <td>...</td>\n",
       "      <td>...</td>\n",
       "      <td>...</td>\n",
       "    </tr>\n",
       "    <tr>\n",
       "      <th>332</th>\n",
       "      <td>Imposter</td>\n",
       "      <td>Imposter</td>\n",
       "      <td>0.158</td>\n",
       "      <td>0.842</td>\n",
       "    </tr>\n",
       "    <tr>\n",
       "      <th>151</th>\n",
       "      <td>Genuine</td>\n",
       "      <td>Genuine</td>\n",
       "      <td>0.705</td>\n",
       "      <td>0.295</td>\n",
       "    </tr>\n",
       "    <tr>\n",
       "      <th>49</th>\n",
       "      <td>Genuine</td>\n",
       "      <td>Genuine</td>\n",
       "      <td>0.783</td>\n",
       "      <td>0.217</td>\n",
       "    </tr>\n",
       "    <tr>\n",
       "      <th>380</th>\n",
       "      <td>Imposter</td>\n",
       "      <td>Imposter</td>\n",
       "      <td>0.097</td>\n",
       "      <td>0.903</td>\n",
       "    </tr>\n",
       "    <tr>\n",
       "      <th>40</th>\n",
       "      <td>Genuine</td>\n",
       "      <td>Genuine</td>\n",
       "      <td>0.860</td>\n",
       "      <td>0.140</td>\n",
       "    </tr>\n",
       "    <tr>\n",
       "      <th>465</th>\n",
       "      <td>Imposter</td>\n",
       "      <td>Imposter</td>\n",
       "      <td>0.089</td>\n",
       "      <td>0.911</td>\n",
       "    </tr>\n",
       "    <tr>\n",
       "      <th>9</th>\n",
       "      <td>Genuine</td>\n",
       "      <td>Genuine</td>\n",
       "      <td>0.898</td>\n",
       "      <td>0.102</td>\n",
       "    </tr>\n",
       "    <tr>\n",
       "      <th>393</th>\n",
       "      <td>Imposter</td>\n",
       "      <td>Imposter</td>\n",
       "      <td>0.106</td>\n",
       "      <td>0.894</td>\n",
       "    </tr>\n",
       "    <tr>\n",
       "      <th>460</th>\n",
       "      <td>Imposter</td>\n",
       "      <td>Imposter</td>\n",
       "      <td>0.091</td>\n",
       "      <td>0.909</td>\n",
       "    </tr>\n",
       "    <tr>\n",
       "      <th>296</th>\n",
       "      <td>Imposter</td>\n",
       "      <td>Imposter</td>\n",
       "      <td>0.411</td>\n",
       "      <td>0.589</td>\n",
       "    </tr>\n",
       "    <tr>\n",
       "      <th>149</th>\n",
       "      <td>Genuine</td>\n",
       "      <td>Genuine</td>\n",
       "      <td>0.756</td>\n",
       "      <td>0.244</td>\n",
       "    </tr>\n",
       "    <tr>\n",
       "      <th>337</th>\n",
       "      <td>Imposter</td>\n",
       "      <td>Imposter</td>\n",
       "      <td>0.050</td>\n",
       "      <td>0.950</td>\n",
       "    </tr>\n",
       "    <tr>\n",
       "      <th>248</th>\n",
       "      <td>Imposter</td>\n",
       "      <td>Imposter</td>\n",
       "      <td>0.128</td>\n",
       "      <td>0.872</td>\n",
       "    </tr>\n",
       "    <tr>\n",
       "      <th>36</th>\n",
       "      <td>Genuine</td>\n",
       "      <td>Genuine</td>\n",
       "      <td>0.777</td>\n",
       "      <td>0.223</td>\n",
       "    </tr>\n",
       "    <tr>\n",
       "      <th>116</th>\n",
       "      <td>Genuine</td>\n",
       "      <td>Genuine</td>\n",
       "      <td>0.820</td>\n",
       "      <td>0.180</td>\n",
       "    </tr>\n",
       "    <tr>\n",
       "      <th>210</th>\n",
       "      <td>Genuine</td>\n",
       "      <td>Genuine</td>\n",
       "      <td>0.744</td>\n",
       "      <td>0.256</td>\n",
       "    </tr>\n",
       "    <tr>\n",
       "      <th>154</th>\n",
       "      <td>Genuine</td>\n",
       "      <td>Genuine</td>\n",
       "      <td>0.799</td>\n",
       "      <td>0.201</td>\n",
       "    </tr>\n",
       "    <tr>\n",
       "      <th>131</th>\n",
       "      <td>Genuine</td>\n",
       "      <td>Genuine</td>\n",
       "      <td>0.879</td>\n",
       "      <td>0.121</td>\n",
       "    </tr>\n",
       "    <tr>\n",
       "      <th>141</th>\n",
       "      <td>Genuine</td>\n",
       "      <td>Genuine</td>\n",
       "      <td>0.877</td>\n",
       "      <td>0.123</td>\n",
       "    </tr>\n",
       "    <tr>\n",
       "      <th>186</th>\n",
       "      <td>Genuine</td>\n",
       "      <td>Genuine</td>\n",
       "      <td>0.878</td>\n",
       "      <td>0.122</td>\n",
       "    </tr>\n",
       "    <tr>\n",
       "      <th>443</th>\n",
       "      <td>Imposter</td>\n",
       "      <td>Imposter</td>\n",
       "      <td>0.361</td>\n",
       "      <td>0.639</td>\n",
       "    </tr>\n",
       "    <tr>\n",
       "      <th>375</th>\n",
       "      <td>Imposter</td>\n",
       "      <td>Imposter</td>\n",
       "      <td>0.268</td>\n",
       "      <td>0.732</td>\n",
       "    </tr>\n",
       "    <tr>\n",
       "      <th>132</th>\n",
       "      <td>Genuine</td>\n",
       "      <td>Genuine</td>\n",
       "      <td>0.823</td>\n",
       "      <td>0.177</td>\n",
       "    </tr>\n",
       "    <tr>\n",
       "      <th>79</th>\n",
       "      <td>Genuine</td>\n",
       "      <td>Imposter</td>\n",
       "      <td>0.492</td>\n",
       "      <td>0.508</td>\n",
       "    </tr>\n",
       "    <tr>\n",
       "      <th>308</th>\n",
       "      <td>Imposter</td>\n",
       "      <td>Imposter</td>\n",
       "      <td>0.000</td>\n",
       "      <td>1.000</td>\n",
       "    </tr>\n",
       "    <tr>\n",
       "      <th>163</th>\n",
       "      <td>Genuine</td>\n",
       "      <td>Genuine</td>\n",
       "      <td>0.792</td>\n",
       "      <td>0.208</td>\n",
       "    </tr>\n",
       "    <tr>\n",
       "      <th>463</th>\n",
       "      <td>Imposter</td>\n",
       "      <td>Imposter</td>\n",
       "      <td>0.134</td>\n",
       "      <td>0.866</td>\n",
       "    </tr>\n",
       "    <tr>\n",
       "      <th>19</th>\n",
       "      <td>Genuine</td>\n",
       "      <td>Genuine</td>\n",
       "      <td>0.809</td>\n",
       "      <td>0.191</td>\n",
       "    </tr>\n",
       "    <tr>\n",
       "      <th>456</th>\n",
       "      <td>Imposter</td>\n",
       "      <td>Imposter</td>\n",
       "      <td>0.228</td>\n",
       "      <td>0.772</td>\n",
       "    </tr>\n",
       "    <tr>\n",
       "      <th>13</th>\n",
       "      <td>Genuine</td>\n",
       "      <td>Genuine</td>\n",
       "      <td>0.798</td>\n",
       "      <td>0.202</td>\n",
       "    </tr>\n",
       "  </tbody>\n",
       "</table>\n",
       "<p>94 rows × 4 columns</p>\n",
       "</div>"
      ],
      "text/plain": [
       "       Target Predictions  Genuine probability  Imposter probability\n",
       "344  Imposter    Imposter                0.061                 0.939\n",
       "53    Genuine     Genuine                0.798                 0.202\n",
       "227   Genuine     Genuine                0.843                 0.157\n",
       "428  Imposter    Imposter                0.230                 0.770\n",
       "197   Genuine     Genuine                0.749                 0.251\n",
       "192   Genuine     Genuine                0.867                 0.133\n",
       "431  Imposter    Imposter                0.218                 0.782\n",
       "300  Imposter    Imposter                0.025                 0.975\n",
       "193   Genuine     Genuine                0.765                 0.235\n",
       "107   Genuine     Genuine                0.974                 0.026\n",
       "253  Imposter    Imposter                0.162                 0.838\n",
       "391  Imposter    Imposter                0.114                 0.886\n",
       "388  Imposter    Imposter                0.007                 0.993\n",
       "99    Genuine     Genuine                0.950                 0.050\n",
       "323  Imposter    Imposter                0.046                 0.954\n",
       "155   Genuine     Genuine                0.799                 0.201\n",
       "208   Genuine     Genuine                0.906                 0.094\n",
       "409  Imposter    Imposter                0.010                 0.990\n",
       "283  Imposter     Genuine                0.678                 0.322\n",
       "351  Imposter    Imposter                0.081                 0.919\n",
       "445  Imposter    Imposter                0.377                 0.623\n",
       "48    Genuine     Genuine                0.738                 0.262\n",
       "430  Imposter    Imposter                0.350                 0.650\n",
       "73    Genuine     Genuine                0.821                 0.179\n",
       "185   Genuine     Genuine                0.847                 0.153\n",
       "286  Imposter     Genuine                0.616                 0.384\n",
       "24    Genuine     Genuine                0.783                 0.217\n",
       "369  Imposter    Imposter                0.125                 0.875\n",
       "150   Genuine     Genuine                0.826                 0.174\n",
       "385  Imposter    Imposter                0.009                 0.991\n",
       "..        ...         ...                  ...                   ...\n",
       "332  Imposter    Imposter                0.158                 0.842\n",
       "151   Genuine     Genuine                0.705                 0.295\n",
       "49    Genuine     Genuine                0.783                 0.217\n",
       "380  Imposter    Imposter                0.097                 0.903\n",
       "40    Genuine     Genuine                0.860                 0.140\n",
       "465  Imposter    Imposter                0.089                 0.911\n",
       "9     Genuine     Genuine                0.898                 0.102\n",
       "393  Imposter    Imposter                0.106                 0.894\n",
       "460  Imposter    Imposter                0.091                 0.909\n",
       "296  Imposter    Imposter                0.411                 0.589\n",
       "149   Genuine     Genuine                0.756                 0.244\n",
       "337  Imposter    Imposter                0.050                 0.950\n",
       "248  Imposter    Imposter                0.128                 0.872\n",
       "36    Genuine     Genuine                0.777                 0.223\n",
       "116   Genuine     Genuine                0.820                 0.180\n",
       "210   Genuine     Genuine                0.744                 0.256\n",
       "154   Genuine     Genuine                0.799                 0.201\n",
       "131   Genuine     Genuine                0.879                 0.121\n",
       "141   Genuine     Genuine                0.877                 0.123\n",
       "186   Genuine     Genuine                0.878                 0.122\n",
       "443  Imposter    Imposter                0.361                 0.639\n",
       "375  Imposter    Imposter                0.268                 0.732\n",
       "132   Genuine     Genuine                0.823                 0.177\n",
       "79    Genuine    Imposter                0.492                 0.508\n",
       "308  Imposter    Imposter                0.000                 1.000\n",
       "163   Genuine     Genuine                0.792                 0.208\n",
       "463  Imposter    Imposter                0.134                 0.866\n",
       "19    Genuine     Genuine                0.809                 0.191\n",
       "456  Imposter    Imposter                0.228                 0.772\n",
       "13    Genuine     Genuine                0.798                 0.202\n",
       "\n",
       "[94 rows x 4 columns]"
      ]
     },
     "execution_count": 58,
     "metadata": {},
     "output_type": "execute_result"
    }
   ],
   "source": [
    "df"
   ]
  },
  {
   "cell_type": "markdown",
   "metadata": {},
   "source": [
    "# Check Performance of Model\n",
    "\n",
    "**Accuracy**"
   ]
  },
  {
   "cell_type": "code",
   "execution_count": 59,
   "metadata": {},
   "outputs": [],
   "source": [
    "model_accuracy = metrics.accuracy_score(y_test,pred)"
   ]
  },
  {
   "cell_type": "code",
   "execution_count": 60,
   "metadata": {},
   "outputs": [
    {
     "data": {
      "text/plain": [
       "Genuine     51\n",
       "Imposter    43\n",
       "Name: Target, dtype: int64"
      ]
     },
     "execution_count": 60,
     "metadata": {},
     "output_type": "execute_result"
    }
   ],
   "source": [
    "y_test.value_counts()"
   ]
  },
  {
   "cell_type": "code",
   "execution_count": null,
   "metadata": {},
   "outputs": [],
   "source": []
  },
  {
   "cell_type": "code",
   "execution_count": 61,
   "metadata": {},
   "outputs": [
    {
     "name": "stdout",
     "output_type": "stream",
     "text": [
      "[[49  2]\n",
      " [ 4 39]]\n"
     ]
    }
   ],
   "source": [
    "cm = confusion_matrix(y_test,pred)\n",
    "print(confusion_matrix(y_test,pred))"
   ]
  },
  {
   "cell_type": "code",
   "execution_count": 62,
   "metadata": {},
   "outputs": [
    {
     "data": {
      "image/png": "[encoded data removed]",
      "text/plain": [
       "<matplotlib.figure.Figure at 0x1a20b726d8>"
      ]
     },
     "metadata": {},
     "output_type": "display_data"
    }
   ],
   "source": [
    "sns.set_style('white')\n",
    "plt.clf()\n",
    "plt.imshow(cm, interpolation='nearest', cmap=plt.cm.Pastel1)\n",
    "classNames = ['Genuine','Imposter']\n",
    "plt.title('Confusion Matrix',fontsize = 15)\n",
    "plt.ylabel('True label',fontsize=15)\n",
    "plt.xlabel('Predicted label',fontsize=15)\n",
    "tick_marks = np.arange(len(classNames))\n",
    "plt.xticks(tick_marks, classNames,fontsize=12)\n",
    "plt.yticks(tick_marks, classNames,fontsize=12)\n",
    "s = [['TP','FN'], ['FP', 'TN']]\n",
    "for i in range(2):\n",
    "    for j in range(2):\n",
    "        plt.text(j,i, str(s[i][j])+\" = \"+str(cm[i][j]))\n",
    "plt.show()"
   ]
  },
  {
   "cell_type": "markdown",
   "metadata": {},
   "source": [
    " ***Basic Terminology***\n",
    " \n",
    " ***True Positive (TP) : ***  We correctly predicted the user is Geninue\n",
    " \n",
    " ***True Negative (TN) : ***  We correctly predicted the user is Imposter\n",
    " \n",
    " ***False Positive (FP) : ***  We incorrectly predicted the user is geninue\n",
    "\n",
    " ***False Negative (FN) : ***  We incorrectly predicted the user is imposter \n",
    " \n",
    "  "
   ]
  },
  {
   "cell_type": "code",
   "execution_count": 63,
   "metadata": {},
   "outputs": [
    {
     "data": {
      "image/png": "[encoded data removed]",
      "text/plain": [
       "<matplotlib.figure.Figure at 0x1a20b4fdd8>"
      ]
     },
     "metadata": {},
     "output_type": "display_data"
    }
   ],
   "source": [
    "probs = logmodel.predict_proba(X_test)\n",
    "preds = probs[:,0]\n",
    "fpr, tpr,threshold= metrics.roc_curve(y_test, preds,pos_label='Genuine')\n",
    "plt.figure()\n",
    "lw = 1\n",
    "plt.plot(fpr, tpr)\n",
    "plt.xlim([0.0, 1.0])\n",
    "plt.ylim([0.0, 1.0])\n",
    "plt.plot([0, 1], [0, 1], color='red', lw=lw, linestyle='--')\n",
    "plt.rcParams['font.size'] = 12\n",
    "plt.title('ROC curve for Keystroke')\n",
    "plt.xlabel('False Positive Rate')\n",
    "plt.ylabel('True Positive Rate')\n",
    "plt.grid(True)\n",
    "roc_auc= metrics.auc(fpr,tpr)"
   ]
  },
  {
   "cell_type": "code",
   "execution_count": 64,
   "metadata": {},
   "outputs": [
    {
     "name": "stdout",
     "output_type": "stream",
     "text": [
      "Accuracy of Model is:  93.61702127659575\n",
      "\n",
      "Mis-Classification Rate of Model is:  6.382978723404253\n",
      "\n",
      "Area Under Curve:  0.9772001823985408\n"
     ]
    }
   ],
   "source": [
    "print(\"Accuracy of Model is: \", model_accuracy*100)\n",
    "print()\n",
    "print(\"Mis-Classification Rate of Model is: \",(1-model_accuracy)*100)\n",
    "print()\n",
    "print(\"Area Under Curve: \",roc_auc)"
   ]
  },
  {
   "cell_type": "code",
   "execution_count": 65,
   "metadata": {},
   "outputs": [
    {
     "name": "stdout",
     "output_type": "stream",
     "text": [
      "             precision    recall  f1-score   support\n",
      "\n",
      "    Genuine       0.92      0.96      0.94        51\n",
      "   Imposter       0.95      0.91      0.93        43\n",
      "\n",
      "avg / total       0.94      0.94      0.94        94\n",
      "\n"
     ]
    }
   ],
   "source": [
    "print(classification_report(y_test,pred))"
   ]
  },
  {
   "cell_type": "markdown",
   "metadata": {},
   "source": [
    "# Parameter Tuning\n",
    "\n",
    "Check For different random state variable in train_test_split function."
   ]
  },
  {
   "cell_type": "code",
   "execution_count": 66,
   "metadata": {},
   "outputs": [],
   "source": [
    "error_rate = []\n",
    "\n",
    "# Will take some time\n",
    "for i in range(1,70):\n",
    "    train, test = train_test_split(data, test_size = 0.2, random_state=i)\n",
    "    features = list(data.columns[1:32])\n",
    "    X = data[features]\n",
    "    X_train = train[features]\n",
    "    y_train = train['Target']\n",
    "    X_test = test[features]\n",
    "    y_test = test['Target']    \n",
    "    logmodel = LogisticRegression()\n",
    "    \n",
    "    logmodel.fit(X_train,y_train)\n",
    "    pred = logmodel.predict(X_test)\n",
    "    error_rate.append(np.mean(pred != y_test))"
   ]
  },
  {
   "cell_type": "code",
   "execution_count": 67,
   "metadata": {},
   "outputs": [
    {
     "data": {
      "text/plain": [
       "(array([0.  , 0.02, 0.04, 0.06, 0.08, 0.1 , 0.12, 0.14, 0.16, 0.18]),\n",
       " <a list of 10 Text yticklabel objects>)"
      ]
     },
     "execution_count": 67,
     "metadata": {},
     "output_type": "execute_result"
    },
    {
     "data": {
      "image/png": "[encoded data removed]",
      "text/plain": [
       "<matplotlib.figure.Figure at 0x1a209b5438>"
      ]
     },
     "metadata": {},
     "output_type": "display_data"
    }
   ],
   "source": [
    "sns.set_style('darkgrid')\n",
    "\n",
    "ax =plt.figure(figsize=(15,8)).add_subplot(1, 1, 1)\n",
    "plt.plot(range(1,70),error_rate,color='blue', linestyle='dashed', marker='o',markerfacecolor='red', markersize=15,)\n",
    "\n",
    "plt.title('Error Rate vs. Random state',fontsize=15)\n",
    "plt.xlabel('Random State',fontsize=15)\n",
    "plt.ylabel('Error Rate',fontsize=15)\n",
    "major_ticks = np.arange(0, 70, 2)\n",
    "minor_ticks = np.arange(0, 70, 1)\n",
    "ax.set_xticks(major_ticks)\n",
    "ax.set_xticks(minor_ticks, minor=True)\n",
    "plt.xticks(fontsize=10)\n",
    "plt.yticks(fontsize=15)"
   ]
  },
  {
   "cell_type": "markdown",
   "metadata": {},
   "source": [
    "**From above graph we can say that error rate is minimum for random state num of 24 **"
   ]
  },
  {
   "cell_type": "markdown",
   "metadata": {},
   "source": [
    "***Now lets check accuracy for different values of C while creating logistic regression model***"
   ]
  },
  {
   "cell_type": "code",
   "execution_count": 68,
   "metadata": {},
   "outputs": [],
   "source": [
    "C_param_range = [0.001,0.01,0.1,1,10,100,1000]\n",
    "accuracy = []\n",
    "\n",
    "for i in C_param_range:\n",
    "      \n",
    "    train, test = train_test_split(data, test_size = 0.2,random_state = 13)\n",
    "    features = list(data.columns[1:32])\n",
    "    X = data[features]\n",
    "    y =data['Target']\n",
    "    X_train = train[features]\n",
    "    y_train = train['Target']\n",
    "    X_test = test[features]\n",
    "    y_test = test['Target']\n",
    "    logmodel = LogisticRegression(C=i)\n",
    "    logmodel.fit(X_train,y_train)\n",
    "    pred = logmodel.predict(X_test)\n",
    "    model_accuracy = metrics.accuracy_score(y_test,pred)\n",
    "    accuracy.append(model_accuracy)"
   ]
  },
  {
   "cell_type": "code",
   "execution_count": 69,
   "metadata": {},
   "outputs": [
    {
     "data": {
      "text/plain": [
       "Text(0,0.5,'Accuracy')"
      ]
     },
     "execution_count": 69,
     "metadata": {},
     "output_type": "execute_result"
    },
    {
     "data": {
      "image/png": "[encoded data removed]",
      "text/plain": [
       "<matplotlib.figure.Figure at 0x1a20b638d0>"
      ]
     },
     "metadata": {},
     "output_type": "display_data"
    }
   ],
   "source": [
    "ax =plt.figure(figsize=(20,20))\n",
    "plt.plot(C_param_range,accuracy,color='blue', linestyle='dashed', marker='o',markerfacecolor='red', markersize=15)\n",
    "plt.title('Accuracy vs. Value of C')\n",
    "plt.xlabel('Value of C')\n",
    "plt.ylabel('Accuracy')"
   ]
  },
  {
   "cell_type": "code",
   "execution_count": 70,
   "metadata": {},
   "outputs": [],
   "source": [
    "C_prange = [0.1,0.2,0.3,0.4,0.5,0.6,0.7,0.8,0.9]\n",
    "accuracy = []\n",
    "\n",
    "for i in C_prange:\n",
    "      \n",
    "    train, test = train_test_split(data, test_size = i,random_state = 13)\n",
    "    features = list(data.columns[1:32])\n",
    "    X = data[features]\n",
    "    y =data['Target']\n",
    "    X_train = train[features]\n",
    "    y_train = train['Target']\n",
    "    X_test = test[features]\n",
    "    y_test = test['Target']\n",
    "    logmodel = LogisticRegression(C=100)\n",
    "    logmodel.fit(X_train,y_train)\n",
    "    pred = logmodel.predict(X_test)\n",
    "    model_accuracy = metrics.accuracy_score(y_test,pred)\n",
    "    accuracy.append(model_accuracy)"
   ]
  },
  {
   "cell_type": "code",
   "execution_count": 71,
   "metadata": {},
   "outputs": [
    {
     "data": {
      "text/plain": [
       "Text(0,0.5,'Accuracy')"
      ]
     },
     "execution_count": 71,
     "metadata": {},
     "output_type": "execute_result"
    },
    {
     "data": {
      "image/png": "[encoded data removed]",
      "text/plain": [
       "<matplotlib.figure.Figure at 0x1a20b63470>"
      ]
     },
     "metadata": {},
     "output_type": "display_data"
    }
   ],
   "source": [
    "ax =plt.figure(figsize=(20,20))\n",
    "plt.plot(C_prange,accuracy,color='blue', linestyle='dashed', marker='o',markerfacecolor='red', markersize=15)\n",
    "plt.title('Accuracy vs. train test split ratio')\n",
    "plt.xlabel('Split Ratio')\n",
    "plt.ylabel('Accuracy')"
   ]
  },
  {
   "cell_type": "markdown",
   "metadata": {},
   "source": [
    "# Performance of model after parameter tuning."
   ]
  },
  {
   "cell_type": "code",
   "execution_count": 72,
   "metadata": {},
   "outputs": [
    {
     "name": "stdout",
     "output_type": "stream",
     "text": [
      "[[44  1]\n",
      " [ 2 47]]\n"
     ]
    }
   ],
   "source": [
    "train, test = train_test_split(data, test_size = 0.2, random_state= 24)\n",
    "features = list(data.columns[1:32])\n",
    "X = data[features]\n",
    "y =data['Target']\n",
    "X_train = train[features]\n",
    "y_train = train['Target']\n",
    "X_test = test[features]\n",
    "y_test = test['Target']\n",
    "logmodel = LogisticRegression(C=100)\n",
    "logmodel.fit(X_train,y_train)\n",
    "pred = logmodel.predict(X_test)\n",
    "model_accuracy = metrics.accuracy_score(y_test,pred)\n",
    "cm = confusion_matrix(y_test,pred)\n",
    "print(confusion_matrix(y_test,pred))"
   ]
  },
  {
   "cell_type": "code",
   "execution_count": 73,
   "metadata": {},
   "outputs": [
    {
     "data": {
      "image/png": "[encoded data removed]",
      "text/plain": [
       "<matplotlib.figure.Figure at 0x1a20c35a58>"
      ]
     },
     "metadata": {},
     "output_type": "display_data"
    }
   ],
   "source": [
    "sns.set_style('white')\n",
    "plt.clf()\n",
    "plt.imshow(cm, interpolation='nearest', cmap=plt.cm.Pastel1)\n",
    "classNames = ['Genuine','Imposter']\n",
    "plt.title('Confusion Matrix',fontsize = 15)\n",
    "plt.ylabel('True label',fontsize=15)\n",
    "plt.xlabel('Predicted label',fontsize=15)\n",
    "tick_marks = np.arange(len(classNames))\n",
    "plt.xticks(tick_marks, classNames,fontsize=12)\n",
    "plt.yticks(tick_marks, classNames,fontsize=12)\n",
    "s = [['TP','FN'], ['FP', 'TN']]\n",
    "for i in range(2):\n",
    "    for j in range(2):\n",
    "        plt.text(j,i, str(s[i][j])+\" = \"+str(cm[i][j]))\n",
    "plt.show()"
   ]
  },
  {
   "cell_type": "code",
   "execution_count": 74,
   "metadata": {},
   "outputs": [
    {
     "name": "stdout",
     "output_type": "stream",
     "text": [
      "Area under curve:  0.9941043083900227\n"
     ]
    },
    {
     "data": {
      "image/png": "[encoded data removed]",
      "text/plain": [
       "<matplotlib.figure.Figure at 0x1a20c35668>"
      ]
     },
     "metadata": {},
     "output_type": "display_data"
    }
   ],
   "source": [
    "probs = logmodel.predict_proba(X_test)\n",
    "preds = probs[:,0]\n",
    "fpr, tpr,threshold= metrics.roc_curve(y_test, preds,pos_label='Genuine')\n",
    "plt.figure()\n",
    "lw = 1\n",
    "plt.plot(fpr, tpr)\n",
    "plt.xlim([0.0, 1.0])\n",
    "plt.ylim([0.0, 1.0])\n",
    "plt.plot([0, 1], [0, 1], color='red', lw=lw, linestyle='--')\n",
    "plt.rcParams['font.size'] = 12\n",
    "plt.title('ROC curve for Keystroke')\n",
    "plt.xlabel('False Positive Rate')\n",
    "plt.ylabel('True Positive Rate')\n",
    "plt.grid(True)\n",
    "roc_auc= metrics.auc(fpr,tpr)\n",
    "print(\"Area under curve: \" ,roc_auc)"
   ]
  },
  {
   "cell_type": "code",
   "execution_count": null,
   "metadata": {},
   "outputs": [],
   "source": []
  },
  {
   "cell_type": "code",
   "execution_count": 75,
   "metadata": {},
   "outputs": [
    {
     "name": "stdout",
     "output_type": "stream",
     "text": [
      "Accuracy of Model is:  0.9680851063829787\n",
      "\n",
      "Mis-Classification Rate of Model is:  0.03191489361702127\n",
      "\n",
      "Area Under Curve:  0.9941043083900227\n"
     ]
    }
   ],
   "source": [
    "print(\"Accuracy of Model is: \",model_accuracy)\n",
    "print()\n",
    "print(\"Mis-Classification Rate of Model is: \",1 - model_accuracy)\n",
    "print()\n",
    "print(\"Area Under Curve: \",roc_auc)"
   ]
  },
  {
   "cell_type": "code",
   "execution_count": 76,
   "metadata": {},
   "outputs": [
    {
     "name": "stdout",
     "output_type": "stream",
     "text": [
      "             precision    recall  f1-score   support\n",
      "\n",
      "    Genuine       0.96      0.98      0.97        45\n",
      "   Imposter       0.98      0.96      0.97        49\n",
      "\n",
      "avg / total       0.97      0.97      0.97        94\n",
      "\n"
     ]
    }
   ],
   "source": [
    "print(classification_report(y_test,pred))"
   ]
  },
  {
   "cell_type": "code",
   "execution_count": null,
   "metadata": {},
   "outputs": [],
   "source": []
  },
  {
   "cell_type": "code",
   "execution_count": null,
   "metadata": {},
   "outputs": [],
   "source": []
  }
 ],
 "metadata": {
  "kernelspec": {
   "display_name": "Python 3",
   "language": "python",
   "name": "python3"
  },
  "language_info": {
   "codemirror_mode": {
    "name": "ipython",
    "version": 3
   },
   "file_extension": ".py",
   "mimetype": "text/x-python",
   "name": "python",
   "nbconvert_exporter": "python",
   "pygments_lexer": "ipython3",
   "version": "3.6.4"
  }
 },
 "nbformat": 4,
 "nbformat_minor": 2
}
