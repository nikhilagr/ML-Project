{
 "cells": [
  {
   "cell_type": "code",
   "execution_count": 1,
   "metadata": {},
   "outputs": [],
   "source": [
    "import pandas as pd\n",
    "import numpy as np\n",
    "import matplotlib.pyplot as plt\n",
    "import seaborn as sns\n",
    "%matplotlib inline\n",
    "from matplotlib.colors import ListedColormap\n",
    "from sklearn.model_selection import train_test_split\n",
    "from sklearn import metrics\n",
    "from sklearn.preprocessing import StandardScaler\n",
    "from sklearn.metrics import classification_report,confusion_matrix\n",
    "from sklearn.neighbors import KNeighborsClassifier\n",
    "\n",
    "# libraries for computation\n",
    "import pandas as pd\n",
    "import numpy as np\n",
    "\n",
    "#library for train test split\n",
    "from sklearn.model_selection import train_test_split,cross_val_score,KFold\n",
    "\n",
    "#library for preprocessing\n",
    "from sklearn.preprocessing import StandardScaler\n",
    "\n",
    "#library for Dimensionality reduction\n",
    "from sklearn.decomposition import PCA\n",
    "from sklearn.decomposition import TruncatedSVD\n",
    "\n",
    "#Library for feature selection techniques\n",
    "from sklearn.feature_selection import RFE\n",
    "from sklearn.feature_selection import RFECV\n",
    "from sklearn.feature_selection import SelectKBest\n",
    "from sklearn.feature_selection import chi2\n",
    "from sklearn.feature_selection import SelectFromModel\n",
    "\n",
    "#libraries for various ML models \n",
    "from sklearn import svm\n",
    "from sklearn.svm import SVC\n",
    "from sklearn.linear_model import LogisticRegression\n",
    "from sklearn.neural_network import MLPClassifier\n",
    "from sklearn.neighbors import KNeighborsClassifier\n",
    "from sklearn.tree import DecisionTreeClassifier\n",
    "#ensemble models\n",
    "from sklearn.ensemble import BaggingClassifier\n",
    "from sklearn.ensemble import AdaBoostClassifier\n",
    "from sklearn.ensemble import GradientBoostingClassifier\n",
    "from sklearn.ensemble import VotingClassifier\n",
    "from sklearn.ensemble import RandomForestClassifier\n",
    "from sklearn.ensemble import ExtraTreesClassifier\n",
    "from sklearn.ensemble import RandomForestRegressor\n",
    "\n",
    "\n",
    "\n",
    "#libraries for model performance evaluation\n",
    "from sklearn import metrics\n",
    "from sklearn.metrics import classification_report,confusion_matrix,accuracy_score,f1_score\n",
    "\n",
    "#libraries for visualization\n",
    "import matplotlib.pyplot as plt\n",
    "import seaborn as sns\n",
    "%matplotlib inline\n",
    "from matplotlib.colors import ListedColormap\n",
    "\n",
    "import warnings\n",
    "warnings.filterwarnings('ignore')"
   ]
  },
  {
   "cell_type": "code",
   "execution_count": 6,
   "metadata": {},
   "outputs": [],
   "source": [
    "def plotConfusion(cm):\n",
    "    sns.set_style('white')\n",
    "    plt.clf()\n",
    "    plt.imshow(cm, interpolation='nearest', cmap=plt.cm.Pastel1)\n",
    "    classNames = ['Genuine','Imposter']\n",
    "    plt.title('Confusion Matrix',fontsize = 15)\n",
    "    plt.ylabel('True label',fontsize=15)\n",
    "    plt.xlabel('Predicted label',fontsize=15)\n",
    "    tick_marks = np.arange(len(classNames))\n",
    "    plt.xticks(tick_marks, classNames,fontsize=12)\n",
    "    plt.yticks(tick_marks, classNames,fontsize=12)\n",
    "    s = [['TP','FN'], ['FP', 'TN']]\n",
    "    for i in range(2):\n",
    "        for j in range(2):\n",
    "            plt.text(j,i, str(s[i][j])+\" = \"+str(cm[i][j]))\n",
    "    plt.show()"
   ]
  },
  {
   "cell_type": "code",
   "execution_count": 7,
   "metadata": {},
   "outputs": [
    {
     "data": {
      "text/html": [
       "<div>\n",
       "<style scoped>\n",
       "    .dataframe tbody tr th:only-of-type {\n",
       "        vertical-align: middle;\n",
       "    }\n",
       "\n",
       "    .dataframe tbody tr th {\n",
       "        vertical-align: top;\n",
       "    }\n",
       "\n",
       "    .dataframe thead th {\n",
       "        text-align: right;\n",
       "    }\n",
       "</style>\n",
       "<table border=\"1\" class=\"dataframe\">\n",
       "  <thead>\n",
       "    <tr style=\"text-align: right;\">\n",
       "      <th></th>\n",
       "      <th>UserName</th>\n",
       "      <th>H.period</th>\n",
       "      <th>DD.period.t</th>\n",
       "      <th>UD.period.t</th>\n",
       "      <th>H.t</th>\n",
       "      <th>DD.t.i</th>\n",
       "      <th>UD.t.i</th>\n",
       "      <th>H.i</th>\n",
       "      <th>DD.i.e</th>\n",
       "      <th>UD.i.e</th>\n",
       "      <th>...</th>\n",
       "      <th>DD.a.n</th>\n",
       "      <th>UD.a.n</th>\n",
       "      <th>H.n</th>\n",
       "      <th>DD.n.l</th>\n",
       "      <th>UD.n.l</th>\n",
       "      <th>H.l</th>\n",
       "      <th>DD.l.Return</th>\n",
       "      <th>UD.l.Return</th>\n",
       "      <th>H.Return</th>\n",
       "      <th>Target</th>\n",
       "    </tr>\n",
       "  </thead>\n",
       "  <tbody>\n",
       "    <tr>\n",
       "      <th>0</th>\n",
       "      <td>Nikhil</td>\n",
       "      <td>0.119</td>\n",
       "      <td>0.272</td>\n",
       "      <td>0.153</td>\n",
       "      <td>0.103</td>\n",
       "      <td>0.208</td>\n",
       "      <td>0.105</td>\n",
       "      <td>0.103</td>\n",
       "      <td>0.288</td>\n",
       "      <td>0.185</td>\n",
       "      <td>...</td>\n",
       "      <td>0.328</td>\n",
       "      <td>0.225</td>\n",
       "      <td>0.135</td>\n",
       "      <td>0.264</td>\n",
       "      <td>0.129</td>\n",
       "      <td>0.111</td>\n",
       "      <td>0.311</td>\n",
       "      <td>0.200</td>\n",
       "      <td>0.112</td>\n",
       "      <td>Genuine</td>\n",
       "    </tr>\n",
       "    <tr>\n",
       "      <th>1</th>\n",
       "      <td>Nikhil</td>\n",
       "      <td>0.119</td>\n",
       "      <td>0.272</td>\n",
       "      <td>0.153</td>\n",
       "      <td>0.103</td>\n",
       "      <td>0.216</td>\n",
       "      <td>0.113</td>\n",
       "      <td>0.103</td>\n",
       "      <td>0.287</td>\n",
       "      <td>0.184</td>\n",
       "      <td>...</td>\n",
       "      <td>0.312</td>\n",
       "      <td>0.209</td>\n",
       "      <td>0.151</td>\n",
       "      <td>0.272</td>\n",
       "      <td>0.121</td>\n",
       "      <td>0.110</td>\n",
       "      <td>0.304</td>\n",
       "      <td>0.194</td>\n",
       "      <td>0.151</td>\n",
       "      <td>Genuine</td>\n",
       "    </tr>\n",
       "    <tr>\n",
       "      <th>2</th>\n",
       "      <td>Nikhil</td>\n",
       "      <td>0.127</td>\n",
       "      <td>0.352</td>\n",
       "      <td>0.225</td>\n",
       "      <td>0.143</td>\n",
       "      <td>0.240</td>\n",
       "      <td>0.097</td>\n",
       "      <td>0.143</td>\n",
       "      <td>0.344</td>\n",
       "      <td>0.201</td>\n",
       "      <td>...</td>\n",
       "      <td>0.297</td>\n",
       "      <td>0.154</td>\n",
       "      <td>0.150</td>\n",
       "      <td>0.263</td>\n",
       "      <td>0.113</td>\n",
       "      <td>0.127</td>\n",
       "      <td>0.304</td>\n",
       "      <td>0.177</td>\n",
       "      <td>0.127</td>\n",
       "      <td>Genuine</td>\n",
       "    </tr>\n",
       "    <tr>\n",
       "      <th>3</th>\n",
       "      <td>Nikhil</td>\n",
       "      <td>0.122</td>\n",
       "      <td>0.315</td>\n",
       "      <td>0.193</td>\n",
       "      <td>0.127</td>\n",
       "      <td>0.200</td>\n",
       "      <td>0.073</td>\n",
       "      <td>0.111</td>\n",
       "      <td>0.400</td>\n",
       "      <td>0.289</td>\n",
       "      <td>...</td>\n",
       "      <td>0.200</td>\n",
       "      <td>0.089</td>\n",
       "      <td>0.143</td>\n",
       "      <td>0.240</td>\n",
       "      <td>0.097</td>\n",
       "      <td>0.159</td>\n",
       "      <td>0.176</td>\n",
       "      <td>0.017</td>\n",
       "      <td>0.087</td>\n",
       "      <td>Genuine</td>\n",
       "    </tr>\n",
       "    <tr>\n",
       "      <th>4</th>\n",
       "      <td>Nikhil</td>\n",
       "      <td>0.143</td>\n",
       "      <td>0.232</td>\n",
       "      <td>0.089</td>\n",
       "      <td>0.119</td>\n",
       "      <td>0.208</td>\n",
       "      <td>0.089</td>\n",
       "      <td>0.127</td>\n",
       "      <td>0.264</td>\n",
       "      <td>0.137</td>\n",
       "      <td>...</td>\n",
       "      <td>0.184</td>\n",
       "      <td>0.041</td>\n",
       "      <td>0.151</td>\n",
       "      <td>0.224</td>\n",
       "      <td>0.073</td>\n",
       "      <td>0.206</td>\n",
       "      <td>0.192</td>\n",
       "      <td>-0.014</td>\n",
       "      <td>0.119</td>\n",
       "      <td>Genuine</td>\n",
       "    </tr>\n",
       "  </tbody>\n",
       "</table>\n",
       "<p>5 rows × 33 columns</p>\n",
       "</div>"
      ],
      "text/plain": [
       "  UserName  H.period  DD.period.t  UD.period.t    H.t  DD.t.i  UD.t.i    H.i  \\\n",
       "0   Nikhil     0.119        0.272        0.153  0.103   0.208   0.105  0.103   \n",
       "1   Nikhil     0.119        0.272        0.153  0.103   0.216   0.113  0.103   \n",
       "2   Nikhil     0.127        0.352        0.225  0.143   0.240   0.097  0.143   \n",
       "3   Nikhil     0.122        0.315        0.193  0.127   0.200   0.073  0.111   \n",
       "4   Nikhil     0.143        0.232        0.089  0.119   0.208   0.089  0.127   \n",
       "\n",
       "   DD.i.e  UD.i.e   ...     DD.a.n  UD.a.n    H.n  DD.n.l  UD.n.l    H.l  \\\n",
       "0   0.288   0.185   ...      0.328   0.225  0.135   0.264   0.129  0.111   \n",
       "1   0.287   0.184   ...      0.312   0.209  0.151   0.272   0.121  0.110   \n",
       "2   0.344   0.201   ...      0.297   0.154  0.150   0.263   0.113  0.127   \n",
       "3   0.400   0.289   ...      0.200   0.089  0.143   0.240   0.097  0.159   \n",
       "4   0.264   0.137   ...      0.184   0.041  0.151   0.224   0.073  0.206   \n",
       "\n",
       "   DD.l.Return  UD.l.Return  H.Return   Target  \n",
       "0        0.311        0.200     0.112  Genuine  \n",
       "1        0.304        0.194     0.151  Genuine  \n",
       "2        0.304        0.177     0.127  Genuine  \n",
       "3        0.176        0.017     0.087  Genuine  \n",
       "4        0.192       -0.014     0.119  Genuine  \n",
       "\n",
       "[5 rows x 33 columns]"
      ]
     },
     "execution_count": 7,
     "metadata": {},
     "output_type": "execute_result"
    }
   ],
   "source": [
    "data = pd.read_csv(\"RealData.csv\")\n",
    "data.head()"
   ]
  },
  {
   "cell_type": "code",
   "execution_count": 8,
   "metadata": {},
   "outputs": [
    {
     "data": {
      "text/plain": [
       "Index(['UserName', 'H.period', 'DD.period.t', 'UD.period.t', 'H.t', 'DD.t.i',\n",
       "       'UD.t.i', 'H.i', 'DD.i.e', 'UD.i.e', 'H.e', 'DD.e.five', 'UD.e.five',\n",
       "       'H.five', 'DD.five.Shift.r', 'UD.five.Shift.r', 'H.Shift.r',\n",
       "       'DD.Shift.r.o', 'UD.Shift.r.o', 'H.o', 'DD.o.a', 'UD.o.a', 'H.a',\n",
       "       'DD.a.n', 'UD.a.n', 'H.n', 'DD.n.l', 'UD.n.l', 'H.l', 'DD.l.Return',\n",
       "       'UD.l.Return', 'H.Return', 'Target'],\n",
       "      dtype='object')"
      ]
     },
     "execution_count": 8,
     "metadata": {},
     "output_type": "execute_result"
    }
   ],
   "source": [
    "data.columns"
   ]
  },
  {
   "cell_type": "code",
   "execution_count": 9,
   "metadata": {},
   "outputs": [
    {
     "name": "stdout",
     "output_type": "stream",
     "text": [
      "<class 'pandas.core.frame.DataFrame'>\n",
      "RangeIndex: 1615 entries, 0 to 1614\n",
      "Data columns (total 33 columns):\n",
      "UserName           1615 non-null object\n",
      "H.period           1615 non-null float64\n",
      "DD.period.t        1615 non-null float64\n",
      "UD.period.t        1615 non-null float64\n",
      "H.t                1615 non-null float64\n",
      "DD.t.i             1615 non-null float64\n",
      "UD.t.i             1615 non-null float64\n",
      "H.i                1615 non-null float64\n",
      "DD.i.e             1615 non-null float64\n",
      "UD.i.e             1615 non-null float64\n",
      "H.e                1615 non-null float64\n",
      "DD.e.five          1615 non-null float64\n",
      "UD.e.five          1615 non-null float64\n",
      "H.five             1615 non-null float64\n",
      "DD.five.Shift.r    1615 non-null float64\n",
      "UD.five.Shift.r    1615 non-null float64\n",
      "H.Shift.r          1615 non-null float64\n",
      "DD.Shift.r.o       1615 non-null float64\n",
      "UD.Shift.r.o       1615 non-null float64\n",
      "H.o                1615 non-null float64\n",
      "DD.o.a             1615 non-null float64\n",
      "UD.o.a             1615 non-null float64\n",
      "H.a                1615 non-null float64\n",
      "DD.a.n             1615 non-null float64\n",
      "UD.a.n             1615 non-null float64\n",
      "H.n                1615 non-null float64\n",
      "DD.n.l             1615 non-null float64\n",
      "UD.n.l             1615 non-null float64\n",
      "H.l                1615 non-null float64\n",
      "DD.l.Return        1615 non-null float64\n",
      "UD.l.Return        1615 non-null float64\n",
      "H.Return           1615 non-null float64\n",
      "Target             1615 non-null object\n",
      "dtypes: float64(31), object(2)\n",
      "memory usage: 416.4+ KB\n"
     ]
    }
   ],
   "source": [
    "data.info()"
   ]
  },
  {
   "cell_type": "code",
   "execution_count": 10,
   "metadata": {},
   "outputs": [
    {
     "data": {
      "text/plain": [
       "Nikhil      709\n",
       "Deepti      327\n",
       "Huy         248\n",
       "Shridhar     94\n",
       "Vikram       38\n",
       "Tarang       33\n",
       "Vishu        33\n",
       "Sushmit      25\n",
       "Rohan        25\n",
       "Abhishek     24\n",
       "Tejas C      23\n",
       "Tejas S      22\n",
       "Rutvik       14\n",
       "Name: UserName, dtype: int64"
      ]
     },
     "execution_count": 10,
     "metadata": {},
     "output_type": "execute_result"
    }
   ],
   "source": [
    "data['UserName'].value_counts()"
   ]
  },
  {
   "cell_type": "code",
   "execution_count": 11,
   "metadata": {},
   "outputs": [
    {
     "data": {
      "text/plain": [
       "Imposter    906\n",
       "Genuine     709\n",
       "Name: Target, dtype: int64"
      ]
     },
     "execution_count": 11,
     "metadata": {},
     "output_type": "execute_result"
    }
   ],
   "source": [
    "data['Target'].value_counts()"
   ]
  },
  {
   "cell_type": "code",
   "execution_count": 12,
   "metadata": {},
   "outputs": [
    {
     "data": {
      "text/plain": [
       "<matplotlib.axes._subplots.AxesSubplot at 0x1a1bf23cf8>"
      ]
     },
     "execution_count": 12,
     "metadata": {},
     "output_type": "execute_result"
    },
    {
     "data": {
      "image/png": "[encoded data removed]",
      "text/plain": [
       "<matplotlib.figure.Figure at 0x10fcb4128>"
      ]
     },
     "metadata": {},
     "output_type": "display_data"
    }
   ],
   "source": [
    "sns.countplot(x='Target',data=data,palette='RdBu_r')"
   ]
  },
  {
   "cell_type": "code",
   "execution_count": 13,
   "metadata": {},
   "outputs": [],
   "source": [
    "features = list(data.columns[1:32])\n",
    "X = data[features]\n",
    "y = data['Target']\n",
    "train, test = train_test_split(data, test_size = 0.2)\n",
    "X_train = train[features]\n",
    "y_train = train['Target']\n",
    "X_test = test[features]\n",
    "y_test = test['Target']"
   ]
  },
  {
   "cell_type": "code",
   "execution_count": 14,
   "metadata": {},
   "outputs": [
    {
     "name": "stdout",
     "output_type": "stream",
     "text": [
      "[[135   2]\n",
      " [  9 177]]\n"
     ]
    },
    {
     "data": {
      "image/png": "[encoded data removed]",
      "text/plain": [
       "<matplotlib.figure.Figure at 0x10e3ce8d0>"
      ]
     },
     "metadata": {},
     "output_type": "display_data"
    }
   ],
   "source": [
    "knn = KNeighborsClassifier(n_neighbors=5)\n",
    "knn.fit(X_train,y_train)\n",
    "pred = knn.predict(X_test)\n",
    "cm = confusion_matrix(y_test,pred)\n",
    "print(cm)\n",
    "plotConfusion(cm)"
   ]
  },
  {
   "cell_type": "code",
   "execution_count": 15,
   "metadata": {},
   "outputs": [
    {
     "name": "stdout",
     "output_type": "stream",
     "text": [
      "[0.9568432599392352, 0.9445732736901048, 0.9660174440499528, 0.9598933645700473, 0.9660418923346805, 0.9629670112510504, 0.9598387975135807, 0.9567654671877378, 0.956732608259872, 0.9598387975135807, 0.9659902518261582, 0.9659902518261582, 0.9690402476780186, 0.9659602947435181, 0.9690402476780186]\n"
     ]
    },
    {
     "data": {
      "image/png": "[encoded data removed]",
      "text/plain": [
       "<matplotlib.figure.Figure at 0x10e42ce48>"
      ]
     },
     "metadata": {},
     "output_type": "display_data"
    }
   ],
   "source": [
    "#KNN for different k values\n",
    "kVals = [1,2,3,4,5,6,7,8,9,10,11,12,13,14,15]\n",
    "f1_scores = []\n",
    "\n",
    "for k in kVals:\n",
    "    knn = KNeighborsClassifier(n_neighbors=k)\n",
    "    knn.fit(X_train,y_train)\n",
    "    pred = knn.predict(X_test)\n",
    "    f1_scores.append(f1_score(y_test,pred,average='weighted'))\n",
    "    \n",
    "plt.plot(kVals,f1_scores)    \n",
    "print(f1_scores) "
   ]
  },
  {
   "cell_type": "code",
   "execution_count": 16,
   "metadata": {},
   "outputs": [
    {
     "name": "stdout",
     "output_type": "stream",
     "text": [
      "F1 Score:  0.9286832623124992\n",
      "Accuracy Score:  0.9287925696594427\n"
     ]
    }
   ],
   "source": [
    "#Logistic Regression\n",
    "logmodel = LogisticRegression()\n",
    "logmodel.fit(X_train,y_train)\n",
    "pred = logmodel.predict(X_test)\n",
    "print(\"F1 Score: \", metrics.f1_score(y_test,pred, average='weighted'))\n",
    "print(\"Accuracy Score: \", accuracy_score(y_test,pred))"
   ]
  },
  {
   "cell_type": "code",
   "execution_count": 17,
   "metadata": {},
   "outputs": [
    {
     "name": "stdout",
     "output_type": "stream",
     "text": [
      "F1 Score:  0.9876036820582441\n",
      "Accuracy Score:  0.9876160990712074\n"
     ]
    }
   ],
   "source": [
    "#DT\n",
    "d_classifier = DecisionTreeClassifier(criterion = 'entropy', random_state = 42)\n",
    "d_classifier.fit(X_train,y_train)\n",
    "pred = d_classifier.predict(X_test)\n",
    "print(\"F1 Score: \", metrics.f1_score(y_test,pred, average='weighted'))\n",
    "print(\"Accuracy Score: \", accuracy_score(y_test,pred))"
   ]
  },
  {
   "cell_type": "code",
   "execution_count": 18,
   "metadata": {},
   "outputs": [
    {
     "name": "stdout",
     "output_type": "stream",
     "text": [
      "F1 Score:  0.9938080495356038\n",
      "Accuracy Score:  0.9938080495356038\n"
     ]
    }
   ],
   "source": [
    "#Ensemble Random Forest Classifier\n",
    "rf_classifier = RandomForestClassifier(n_estimators=100, random_state = 42)\n",
    "rf_classifier.fit(X_train,y_train)\n",
    "pred = rf_classifier.predict(X_test)\n",
    "print(\"F1 Score: \", metrics.f1_score(y_test,pred, average='weighted'))\n",
    "print(\"Accuracy Score: \", accuracy_score(y_test,pred))"
   ]
  },
  {
   "cell_type": "code",
   "execution_count": 19,
   "metadata": {},
   "outputs": [
    {
     "name": "stdout",
     "output_type": "stream",
     "text": [
      "[1.0, 0.9969025045843413, 0.9907164440209595, 0.9938080495356038, 0.9938080495356038, 0.9938080495356038, 0.9938080495356038, 0.9938080495356038]\n"
     ]
    },
    {
     "data": {
      "image/png": "[encoded data removed]",
      "text/plain": [
       "<matplotlib.figure.Figure at 0x10e3cef98>"
      ]
     },
     "metadata": {},
     "output_type": "display_data"
    }
   ],
   "source": [
    "#Ensemble Random Forest Classifier Fine Tunning\n",
    "estimators = [5,10,15,20,30,35,40,48]\n",
    "f1_scores = []\n",
    "for e in estimators:\n",
    "    rf_classifier = RandomForestClassifier(n_estimators=e, random_state = 42)\n",
    "    rf_classifier.fit(X_train,y_train)\n",
    "    pred = rf_classifier.predict(X_test)\n",
    "    f1_scores.append(f1_score(y_test,pred,average='weighted'))\n",
    "    \n",
    "plt.plot(estimators,f1_scores) \n",
    "print(f1_scores)"
   ]
  },
  {
   "cell_type": "code",
   "execution_count": 20,
   "metadata": {},
   "outputs": [
    {
     "name": "stdout",
     "output_type": "stream",
     "text": [
      "F1 Score:  0.9845410235573446\n",
      "Accuracy Score:  0.9845201238390093\n"
     ]
    }
   ],
   "source": [
    "#Bagging Classifier with Decision tree as base learner\n",
    "cart = DecisionTreeClassifier()\n",
    "model = BaggingClassifier(base_estimator=cart, n_estimators=150, random_state=7)\n",
    "model.fit(X_train, y_train)\n",
    "pred = model.predict(X_test)\n",
    "print(\"F1 Score: \", metrics.f1_score(y_test,pred, average='weighted'))\n",
    "print(\"Accuracy Score: \", accuracy_score(y_test,pred))"
   ]
  },
  {
   "cell_type": "code",
   "execution_count": 21,
   "metadata": {},
   "outputs": [
    {
     "name": "stdout",
     "output_type": "stream",
     "text": [
      "F1 Score:  0.9876274982749609\n",
      "Accuracy Score:  0.9876160990712074\n"
     ]
    }
   ],
   "source": [
    "#ExtraTreeClassifier\n",
    "num_trees = 80\n",
    "max_features = 30\n",
    "model = ExtraTreesClassifier(n_estimators=num_trees, max_features=max_features)\n",
    "model.fit(X_train, y_train)\n",
    "pred = model.predict(X_test)\n",
    "print(\"F1 Score: \", metrics.f1_score(y_test,pred, average='weighted'))\n",
    "print(\"Accuracy Score: \", accuracy_score(y_test,pred))"
   ]
  },
  {
   "cell_type": "code",
   "execution_count": 22,
   "metadata": {},
   "outputs": [
    {
     "name": "stdout",
     "output_type": "stream",
     "text": [
      "F1 Score:  0.9938137491374804\n",
      "Accuracy Score:  0.9938080495356038\n"
     ]
    }
   ],
   "source": [
    "# AdaBoostClassifier\n",
    "seed = 7\n",
    "num_trees = 100\n",
    "model = AdaBoostClassifier(n_estimators=num_trees, random_state=seed)\n",
    "model.fit(X_train, y_train)\n",
    "pred = model.predict(X_test)\n",
    "print(\"F1 Score: \", metrics.f1_score(y_test,pred, average='weighted'))\n",
    "print(\"Accuracy Score: \", accuracy_score(y_test,pred))"
   ]
  },
  {
   "cell_type": "code",
   "execution_count": 23,
   "metadata": {},
   "outputs": [
    {
     "name": "stdout",
     "output_type": "stream",
     "text": [
      "F1 Score:  0.9907075137530237\n",
      "Accuracy Score:  0.9907120743034056\n"
     ]
    }
   ],
   "source": [
    "seed = 7\n",
    "num_trees = 100\n",
    "model = GradientBoostingClassifier(n_estimators=num_trees, random_state=seed)\n",
    "model.fit(X_train, y_train)\n",
    "pred = model.predict(X_test)\n",
    "print(\"F1 Score: \", metrics.f1_score(y_test,pred, average='weighted'))\n",
    "print(\"Accuracy Score: \", accuracy_score(y_test,pred))"
   ]
  },
  {
   "cell_type": "code",
   "execution_count": null,
   "metadata": {},
   "outputs": [],
   "source": []
  },
  {
   "cell_type": "code",
   "execution_count": 40,
   "metadata": {},
   "outputs": [
    {
     "name": "stdout",
     "output_type": "stream",
     "text": [
      "F1 Score:  0.9845410235573446\n",
      "Accuracy Score:  0.9845201238390093\n",
      "[[136   1]\n",
      " [  4 182]]\n"
     ]
    },
    {
     "data": {
      "image/png": "[encoded data removed]",
      "text/plain": [
       "<matplotlib.figure.Figure at 0x1a1c53eb00>"
      ]
     },
     "metadata": {},
     "output_type": "display_data"
    }
   ],
   "source": [
    "# Try with Different Models\n",
    "from sklearn.linear_model import LogisticRegression\n",
    "from sklearn.tree import DecisionTreeClassifier\n",
    "from sklearn.svm import SVC\n",
    "from sklearn.ensemble import VotingClassifier\n",
    "# create the sub models\n",
    "estimators = []\n",
    "model1 = KNeighborsClassifier(n_neighbors=5)\n",
    "estimators.append(('Knn', model1))\n",
    "model2 = RandomForestClassifier(n_estimators=100, max_features=30)\n",
    "estimators.append(('RandomForest', model2))\n",
    "model3 = ExtraTreesClassifier(n_estimators=100, max_features=30)\n",
    "estimators.append(('ExtraTree', model3))\n",
    "# create the ensemble model\n",
    "ensemble = VotingClassifier(estimators)\n",
    "ensemble.fit(X_train, y_train)\n",
    "pred = ensemble.predict(X_test)\n",
    "print(\"F1 Score: \", metrics.f1_score(y_test,pred, average='weighted'))\n",
    "print(\"Accuracy Score: \", accuracy_score(y_test,pred))\n",
    "cm = confusion_matrix(y_test,pred)\n",
    "print(cm)\n",
    "plotConfusion(cm)"
   ]
  },
  {
   "cell_type": "code",
   "execution_count": 25,
   "metadata": {},
   "outputs": [
    {
     "name": "stdout",
     "output_type": "stream",
     "text": [
      "F1 Score:  0.9845274067015991\n",
      "Accuracy Score:  0.9845201238390093\n"
     ]
    }
   ],
   "source": [
    "#MLPClassifier\n",
    "net = net = MLPClassifier(random_state=2,hidden_layer_sizes=(100,200,330,10),max_iter=500,activation= 'relu', learning_rate= 'invscaling', solver='adam')\n",
    "net.fit(X_train,y_train)\n",
    "pred= net.predict(X_test)\n",
    "\n",
    "print(\"F1 Score: \", metrics.f1_score(y_test,pred, average='weighted'))\n",
    "print(\"Accuracy Score: \", accuracy_score(y_test,pred))"
   ]
  },
  {
   "cell_type": "code",
   "execution_count": null,
   "metadata": {},
   "outputs": [],
   "source": []
  },
  {
   "cell_type": "code",
   "execution_count": 26,
   "metadata": {},
   "outputs": [],
   "source": [
    "pca = PCA(n_components=15)  \n",
    "X_train_pca = pca.fit_transform(X_train)  \n",
    "X_test_pca = pca.transform(X_test) "
   ]
  },
  {
   "cell_type": "code",
   "execution_count": 27,
   "metadata": {},
   "outputs": [
    {
     "name": "stdout",
     "output_type": "stream",
     "text": [
      "F1 Score:  0.9629670112510504\n",
      "Accuracy Score:  0.9628482972136223\n"
     ]
    }
   ],
   "source": [
    "#KNN\n",
    "knn = KNeighborsClassifier(n_neighbors=5)\n",
    "knn.fit(X_train_pca,y_train)\n",
    "pred = knn.predict(X_test_pca)\n",
    "print(\"F1 Score: \", metrics.f1_score(y_test,pred, average='weighted'))\n",
    "print(\"Accuracy Score: \", accuracy_score(y_test,pred))"
   ]
  },
  {
   "cell_type": "code",
   "execution_count": 28,
   "metadata": {},
   "outputs": [
    {
     "name": "stdout",
     "output_type": "stream",
     "text": [
      "[0.9537490459079098, 0.9476455768432261, 0.9660174440499528, 0.9568207699922403, 0.9629670112510504, 0.9598933645700473, 0.9598387975135807, 0.9567654671877378, 0.956732608259872, 0.9598387975135807, 0.9659902518261582, 0.9659902518261582, 0.9690402476780186, 0.9628824948248826, 0.9690402476780186]\n"
     ]
    },
    {
     "data": {
      "image/png": "[encoded data removed]",
      "text/plain": [
       "<matplotlib.figure.Figure at 0x1a1ef78ac8>"
      ]
     },
     "metadata": {},
     "output_type": "display_data"
    }
   ],
   "source": [
    "#KNN for different k values\n",
    "kVals = [1,2,3,4,5,6,7,8,9,10,11,12,13,14,15]\n",
    "f1_scores = []\n",
    "\n",
    "for k in kVals:\n",
    "    knn = KNeighborsClassifier(n_neighbors=k)\n",
    "    knn.fit(X_train_pca,y_train)\n",
    "    pred = knn.predict(X_test_pca)\n",
    "    f1_scores.append(f1_score(y_test,pred,average='weighted'))\n",
    "    \n",
    "plt.plot(kVals,f1_scores)    \n",
    "print(f1_scores) "
   ]
  },
  {
   "cell_type": "code",
   "execution_count": 29,
   "metadata": {},
   "outputs": [
    {
     "name": "stdout",
     "output_type": "stream",
     "text": [
      "F1 Score:  0.9782949059211954\n",
      "Accuracy Score:  0.978328173374613\n"
     ]
    }
   ],
   "source": [
    "#Ensemble Random Forest Classifier\n",
    "rf_classifier = RandomForestClassifier(n_estimators=150, random_state = 42)\n",
    "rf_classifier.fit(X_train_pca,y_train)\n",
    "pred = rf_classifier.predict(X_test_pca)\n",
    "print(\"F1 Score: \", metrics.f1_score(y_test,pred, average='weighted'))\n",
    "print(\"Accuracy Score: \", accuracy_score(y_test,pred))"
   ]
  },
  {
   "cell_type": "code",
   "execution_count": 30,
   "metadata": {},
   "outputs": [
    {
     "name": "stdout",
     "output_type": "stream",
     "text": [
      "F1 Score:  0.9845274067015991\n",
      "Accuracy Score:  0.9845201238390093\n"
     ]
    }
   ],
   "source": [
    "#ExtraTreeClassifier\n",
    "from sklearn.ensemble import ExtraTreesClassifier\n",
    "model = ExtraTreesClassifier(n_estimators=100, max_features=5)\n",
    "model.fit(X_train_pca, y_train)\n",
    "pred = model.predict(X_test_pca)\n",
    "print(\"F1 Score: \", metrics.f1_score(y_test,pred, average='weighted'))\n",
    "print(\"Accuracy Score: \", accuracy_score(y_test,pred))"
   ]
  },
  {
   "cell_type": "code",
   "execution_count": 31,
   "metadata": {},
   "outputs": [
    {
     "name": "stdout",
     "output_type": "stream",
     "text": [
      "F1 Score:  0.947439480094972\n",
      "Accuracy Score:  0.9473684210526315\n"
     ]
    }
   ],
   "source": [
    "pca = PCA(n_components=5)  \n",
    "X_train_pca = pca.fit_transform(X_train)  \n",
    "X_test_pca = pca.transform(X_test) \n",
    "#Version 13 imporvement\n",
    "# Try with Different Models\n",
    "from sklearn.linear_model import LogisticRegression\n",
    "from sklearn.tree import DecisionTreeClassifier\n",
    "from sklearn.svm import SVC\n",
    "from sklearn.ensemble import VotingClassifier\n",
    "# create the sub models\n",
    "estimators = []\n",
    "model1 = KNeighborsClassifier(n_neighbors=4)\n",
    "estimators.append(('Knn', model1))\n",
    "model2 = RandomForestClassifier(n_estimators=100, max_features=5)\n",
    "estimators.append(('RandomForest', model2))\n",
    "model3 = ExtraTreesClassifier(n_estimators=100, max_features=5)\n",
    "estimators.append(('ExtraTree', model3))\n",
    "# create the ensemble model\n",
    "ensemble = VotingClassifier(estimators)\n",
    "ensemble.fit(X_train_pca, y_train)\n",
    "pred = ensemble.predict(X_test_pca)\n",
    "print(\"F1 Score: \", metrics.f1_score(y_test,pred, average='weighted'))\n",
    "print(\"Accuracy Score: \", accuracy_score(y_test,pred))"
   ]
  },
  {
   "cell_type": "code",
   "execution_count": 32,
   "metadata": {},
   "outputs": [],
   "source": [
    "svd = TruncatedSVD(n_components=25)\n",
    "X_train_svd = svd.fit_transform(X_train,y_train)\n",
    "X_test_svd = svd.transform(X_test)"
   ]
  },
  {
   "cell_type": "code",
   "execution_count": 33,
   "metadata": {},
   "outputs": [
    {
     "name": "stdout",
     "output_type": "stream",
     "text": [
      "F1 Score:  0.9660418923346805\n",
      "Accuracy Score:  0.9659442724458205\n"
     ]
    }
   ],
   "source": [
    "#KNN\n",
    "knn = KNeighborsClassifier(n_neighbors=5)\n",
    "knn.fit(X_train_svd,y_train)\n",
    "pred = knn.predict(X_test_svd)\n",
    "print(\"F1 Score: \", metrics.f1_score(y_test,pred, average='weighted'))\n",
    "print(\"Accuracy Score: \", accuracy_score(y_test,pred))"
   ]
  },
  {
   "cell_type": "code",
   "execution_count": 34,
   "metadata": {},
   "outputs": [
    {
     "name": "stdout",
     "output_type": "stream",
     "text": [
      "[0.9568432599392352, 0.9445732736901048, 0.9660174440499528, 0.9598933645700473, 0.9660418923346805, 0.9629670112510504, 0.9598387975135807, 0.9567654671877378, 0.956732608259872, 0.9598387975135807, 0.9659902518261582, 0.9659902518261582, 0.9690402476780186, 0.9659602947435181, 0.9690402476780186]\n"
     ]
    },
    {
     "data": {
      "image/png": "[encoded data removed]",
      "text/plain": [
       "<matplotlib.figure.Figure at 0x1a1c53a438>"
      ]
     },
     "metadata": {},
     "output_type": "display_data"
    }
   ],
   "source": [
    "#KNN for different k values\n",
    "kVals = [1,2,3,4,5,6,7,8,9,10,11,12,13,14,15]\n",
    "f1_scores = []\n",
    "\n",
    "for k in kVals:\n",
    "    knn = KNeighborsClassifier(n_neighbors=k)\n",
    "    knn.fit(X_train_svd,y_train)\n",
    "    pred = knn.predict(X_test_svd)\n",
    "    f1_scores.append(f1_score(y_test,pred,average='weighted'))\n",
    "    \n",
    "plt.plot(kVals,f1_scores)    \n",
    "print(f1_scores)"
   ]
  },
  {
   "cell_type": "code",
   "execution_count": 35,
   "metadata": {},
   "outputs": [
    {
     "name": "stdout",
     "output_type": "stream",
     "text": [
      "F1 Score:  0.9782442213617549\n",
      "Accuracy Score:  0.978328173374613\n"
     ]
    }
   ],
   "source": [
    "#Ensemble Random Forest Classifier\n",
    "rf_classifier = RandomForestClassifier(n_estimators=150, random_state = 42)\n",
    "rf_classifier.fit(X_train_svd,y_train)\n",
    "pred = rf_classifier.predict(X_test_svd)\n",
    "print(\"F1 Score: \", metrics.f1_score(y_test,pred, average='weighted'))\n",
    "print(\"Accuracy Score: \", accuracy_score(y_test,pred))"
   ]
  },
  {
   "cell_type": "code",
   "execution_count": 36,
   "metadata": {},
   "outputs": [
    {
     "name": "stdout",
     "output_type": "stream",
     "text": [
      "F1 Score:  0.9719921641607405\n",
      "Accuracy Score:  0.9721362229102167\n"
     ]
    }
   ],
   "source": [
    "#ExtraTreeClassifier\n",
    "model = ExtraTreesClassifier(n_estimators=50, max_features=20,random_state=7)\n",
    "model.fit(X_train_svd, y_train)\n",
    "pred = model.predict(X_test_svd)\n",
    "print(\"F1 Score: \", metrics.f1_score(y_test,pred, average='weighted'))\n",
    "print(\"Accuracy Score: \", accuracy_score(y_test,pred))"
   ]
  },
  {
   "cell_type": "code",
   "execution_count": 37,
   "metadata": {},
   "outputs": [
    {
     "name": "stdout",
     "output_type": "stream",
     "text": [
      "Optimal number of features : 30\n",
      "Best features : Index(['H.period', 'DD.period.t', 'UD.period.t', 'H.t', 'DD.t.i', 'UD.t.i',\n",
      "       'H.i', 'DD.i.e', 'UD.i.e', 'H.e', 'UD.e.five', 'H.five',\n",
      "       'DD.five.Shift.r', 'UD.five.Shift.r', 'H.Shift.r', 'DD.Shift.r.o',\n",
      "       'UD.Shift.r.o', 'H.o', 'DD.o.a', 'UD.o.a', 'H.a', 'DD.a.n', 'UD.a.n',\n",
      "       'H.n', 'DD.n.l', 'UD.n.l', 'H.l', 'DD.l.Return', 'UD.l.Return',\n",
      "       'H.Return'],\n",
      "      dtype='object')\n"
     ]
    }
   ],
   "source": [
    "clf_rf_4 = RandomForestClassifier() \n",
    "rfecv = RFECV(estimator=clf_rf_4, step=1, cv=10,scoring='accuracy')   #5-fold cross-validation\n",
    "rfecv = rfecv.fit(X, y)\n",
    "\n",
    "print('Optimal number of features :', rfecv.n_features_)\n",
    "print('Best features :', X.columns[rfecv.support_])"
   ]
  },
  {
   "cell_type": "code",
   "execution_count": 38,
   "metadata": {},
   "outputs": [],
   "source": [
    "st  = \"0.122,0.267,0.145,0.143,0.2,0.057,0.135,0.36,0.225,0.15,1.6,1.45,0.231,0.8,0.569,0.335,0.224,-0.111,0.167,0.247,0.08,0.127,0.232,0.105,0.168,0.312,0.144,0.28,0.2,-0.08,0.128\"\n",
    "li = list(st.split(','))\n"
   ]
  },
  {
   "cell_type": "code",
   "execution_count": 39,
   "metadata": {},
   "outputs": [],
   "source": [
    "ar = np.array(li)\n",
    "arr = ar.reshape(1,31)"
   ]
  },
  {
   "cell_type": "code",
   "execution_count": 129,
   "metadata": {},
   "outputs": [
    {
     "data": {
      "text/plain": [
       "(1, 31)"
      ]
     },
     "execution_count": 129,
     "metadata": {},
     "output_type": "execute_result"
    }
   ],
   "source": [
    "arr.shape"
   ]
  },
  {
   "cell_type": "code",
   "execution_count": 131,
   "metadata": {},
   "outputs": [],
   "source": [
    "knn = KNeighborsClassifier(n_neighbors=5)\n",
    "knn.fit(X_train,y_train)\n",
    "res = knn.predict(arr)"
   ]
  },
  {
   "cell_type": "code",
   "execution_count": 133,
   "metadata": {},
   "outputs": [
    {
     "data": {
      "text/plain": [
       "'Genuine'"
      ]
     },
     "execution_count": 133,
     "metadata": {},
     "output_type": "execute_result"
    }
   ],
   "source": [
    "res[0]"
   ]
  },
  {
   "cell_type": "code",
   "execution_count": null,
   "metadata": {},
   "outputs": [],
   "source": []
  }
 ],
 "metadata": {
  "kernelspec": {
   "display_name": "Python 3",
   "language": "python",
   "name": "python3"
  },
  "language_info": {
   "codemirror_mode": {
    "name": "ipython",
    "version": 3
   },
   "file_extension": ".py",
   "mimetype": "text/x-python",
   "name": "python",
   "nbconvert_exporter": "python",
   "pygments_lexer": "ipython3",
   "version": "3.6.4"
  }
 },
 "nbformat": 4,
 "nbformat_minor": 2
}
